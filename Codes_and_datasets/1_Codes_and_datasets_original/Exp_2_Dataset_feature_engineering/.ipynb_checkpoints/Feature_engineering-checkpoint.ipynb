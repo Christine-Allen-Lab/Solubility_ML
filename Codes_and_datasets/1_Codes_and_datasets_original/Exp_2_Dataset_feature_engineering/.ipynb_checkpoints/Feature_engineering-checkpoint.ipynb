{
 "cells": [
  {
   "cell_type": "code",
   "execution_count": 1,
   "id": "b85f089c",
   "metadata": {},
   "outputs": [],
   "source": [
    "import pandas as pd\n",
    "import numpy as np\n",
    "from sklearn.preprocessing import StandardScaler\n",
    "from sklearn.decomposition import PCA\n",
    "import matplotlib.pyplot as plt\n",
    "\n",
    "import lightgbm as lgb\n",
    "from sklearn.metrics import mean_absolute_error\n",
    "from sklearn.metrics import mean_squared_error\n",
    "from sklearn.metrics import r2_score\n",
    "from math import sqrt\n",
    "\n",
    "from sklearn.model_selection import GroupKFold, cross_val_predict\n",
    "from sklearn.feature_selection import SelectKBest\n",
    "from sklearn.feature_selection import mutual_info_regression\n",
    "from sklearn.feature_selection import f_regression\n",
    "from sklearn.feature_selection import r_regression"
   ]
  },
  {
   "cell_type": "code",
   "execution_count": 2,
   "id": "5ce7cdb4",
   "metadata": {},
   "outputs": [],
   "source": [
    "file_path = \"../Exp_1_Raw_Dataset/Raw_dataset_dataset_20240130.csv\"\n",
    "\n",
    "data = pd.read_csv(file_path)"
   ]
  },
  {
   "cell_type": "code",
   "execution_count": 3,
   "id": "04911b32",
   "metadata": {},
   "outputs": [
    {
     "data": {
      "text/html": [
       "<div>\n",
       "<style scoped>\n",
       "    .dataframe tbody tr th:only-of-type {\n",
       "        vertical-align: middle;\n",
       "    }\n",
       "\n",
       "    .dataframe tbody tr th {\n",
       "        vertical-align: top;\n",
       "    }\n",
       "\n",
       "    .dataframe thead th {\n",
       "        text-align: right;\n",
       "    }\n",
       "</style>\n",
       "<table border=\"1\" class=\"dataframe\">\n",
       "  <thead>\n",
       "    <tr style=\"text-align: right;\">\n",
       "      <th></th>\n",
       "      <th>Drug</th>\n",
       "      <th>Solvent_1</th>\n",
       "      <th>Solvent_mass_fraction</th>\n",
       "      <th>Solvent_mol_fraction</th>\n",
       "      <th>Solvent_2</th>\n",
       "      <th>Temperature (K)</th>\n",
       "      <th>Drug_Melting_temp (K)</th>\n",
       "      <th>Drug_Maccs_1</th>\n",
       "      <th>Drug_Maccs_2</th>\n",
       "      <th>Drug_Maccs_3</th>\n",
       "      <th>...</th>\n",
       "      <th>Solvent_2_fr_thiazole</th>\n",
       "      <th>Solvent_2_fr_thiocyan</th>\n",
       "      <th>Solvent_2_fr_thiophene</th>\n",
       "      <th>Solvent_2_fr_unbrch_alkane</th>\n",
       "      <th>Solvent_2_fr_urea</th>\n",
       "      <th>Solubility (g/100g)</th>\n",
       "      <th>LogS</th>\n",
       "      <th>Class</th>\n",
       "      <th>Drug-solvent system</th>\n",
       "      <th>Type</th>\n",
       "    </tr>\n",
       "  </thead>\n",
       "  <tbody>\n",
       "    <tr>\n",
       "      <th>0</th>\n",
       "      <td>Guanidine hydrochloride</td>\n",
       "      <td>Dimethylformamide</td>\n",
       "      <td>0.1001</td>\n",
       "      <td>0.083785</td>\n",
       "      <td>1-Propanol</td>\n",
       "      <td>278.15</td>\n",
       "      <td>451.15</td>\n",
       "      <td>0</td>\n",
       "      <td>0</td>\n",
       "      <td>0</td>\n",
       "      <td>...</td>\n",
       "      <td>0</td>\n",
       "      <td>0</td>\n",
       "      <td>0</td>\n",
       "      <td>0</td>\n",
       "      <td>0</td>\n",
       "      <td>10.385820</td>\n",
       "      <td>1.016441</td>\n",
       "      <td>(1.01, 1.99]</td>\n",
       "      <td>Guanidine hydrochloride-1-Propanol/Dimethylfor...</td>\n",
       "      <td>Train</td>\n",
       "    </tr>\n",
       "    <tr>\n",
       "      <th>1</th>\n",
       "      <td>Pidotimod</td>\n",
       "      <td>Methanol</td>\n",
       "      <td>0.6000</td>\n",
       "      <td>0.844647</td>\n",
       "      <td>Butyl acetate</td>\n",
       "      <td>308.15</td>\n",
       "      <td>469.15</td>\n",
       "      <td>0</td>\n",
       "      <td>0</td>\n",
       "      <td>0</td>\n",
       "      <td>...</td>\n",
       "      <td>0</td>\n",
       "      <td>0</td>\n",
       "      <td>0</td>\n",
       "      <td>1</td>\n",
       "      <td>0</td>\n",
       "      <td>0.949107</td>\n",
       "      <td>-0.022685</td>\n",
       "      <td>(-0.42, 0.37]</td>\n",
       "      <td>Pidotimod-Butyl acetate/Methanol</td>\n",
       "      <td>Train</td>\n",
       "    </tr>\n",
       "    <tr>\n",
       "      <th>2</th>\n",
       "      <td>Pidotimod</td>\n",
       "      <td>Methanol</td>\n",
       "      <td>0.7000</td>\n",
       "      <td>0.894264</td>\n",
       "      <td>Butyl acetate</td>\n",
       "      <td>303.15</td>\n",
       "      <td>469.15</td>\n",
       "      <td>0</td>\n",
       "      <td>0</td>\n",
       "      <td>0</td>\n",
       "      <td>...</td>\n",
       "      <td>0</td>\n",
       "      <td>0</td>\n",
       "      <td>0</td>\n",
       "      <td>1</td>\n",
       "      <td>0</td>\n",
       "      <td>1.364617</td>\n",
       "      <td>0.135011</td>\n",
       "      <td>(-0.42, 0.37]</td>\n",
       "      <td>Pidotimod-Butyl acetate/Methanol</td>\n",
       "      <td>Train</td>\n",
       "    </tr>\n",
       "    <tr>\n",
       "      <th>3</th>\n",
       "      <td>Pidotimod</td>\n",
       "      <td>Methanol</td>\n",
       "      <td>0.7000</td>\n",
       "      <td>0.894264</td>\n",
       "      <td>Butyl acetate</td>\n",
       "      <td>298.15</td>\n",
       "      <td>469.15</td>\n",
       "      <td>0</td>\n",
       "      <td>0</td>\n",
       "      <td>0</td>\n",
       "      <td>...</td>\n",
       "      <td>0</td>\n",
       "      <td>0</td>\n",
       "      <td>0</td>\n",
       "      <td>1</td>\n",
       "      <td>0</td>\n",
       "      <td>1.188868</td>\n",
       "      <td>0.075133</td>\n",
       "      <td>(-0.42, 0.37]</td>\n",
       "      <td>Pidotimod-Butyl acetate/Methanol</td>\n",
       "      <td>Train</td>\n",
       "    </tr>\n",
       "    <tr>\n",
       "      <th>4</th>\n",
       "      <td>Pidotimod</td>\n",
       "      <td>Methanol</td>\n",
       "      <td>0.7000</td>\n",
       "      <td>0.894264</td>\n",
       "      <td>Butyl acetate</td>\n",
       "      <td>293.15</td>\n",
       "      <td>469.15</td>\n",
       "      <td>0</td>\n",
       "      <td>0</td>\n",
       "      <td>0</td>\n",
       "      <td>...</td>\n",
       "      <td>0</td>\n",
       "      <td>0</td>\n",
       "      <td>0</td>\n",
       "      <td>1</td>\n",
       "      <td>0</td>\n",
       "      <td>0.997346</td>\n",
       "      <td>-0.001154</td>\n",
       "      <td>(-0.42, 0.37]</td>\n",
       "      <td>Pidotimod-Butyl acetate/Methanol</td>\n",
       "      <td>Train</td>\n",
       "    </tr>\n",
       "    <tr>\n",
       "      <th>...</th>\n",
       "      <td>...</td>\n",
       "      <td>...</td>\n",
       "      <td>...</td>\n",
       "      <td>...</td>\n",
       "      <td>...</td>\n",
       "      <td>...</td>\n",
       "      <td>...</td>\n",
       "      <td>...</td>\n",
       "      <td>...</td>\n",
       "      <td>...</td>\n",
       "      <td>...</td>\n",
       "      <td>...</td>\n",
       "      <td>...</td>\n",
       "      <td>...</td>\n",
       "      <td>...</td>\n",
       "      <td>...</td>\n",
       "      <td>...</td>\n",
       "      <td>...</td>\n",
       "      <td>...</td>\n",
       "      <td>...</td>\n",
       "      <td>...</td>\n",
       "    </tr>\n",
       "    <tr>\n",
       "      <th>27276</th>\n",
       "      <td>Celecoxib</td>\n",
       "      <td>Ethanol</td>\n",
       "      <td>0.5000</td>\n",
       "      <td>0.281185</td>\n",
       "      <td>Water</td>\n",
       "      <td>313.15</td>\n",
       "      <td>431.15</td>\n",
       "      <td>0</td>\n",
       "      <td>0</td>\n",
       "      <td>0</td>\n",
       "      <td>...</td>\n",
       "      <td>0</td>\n",
       "      <td>0</td>\n",
       "      <td>0</td>\n",
       "      <td>0</td>\n",
       "      <td>0</td>\n",
       "      <td>1.026914</td>\n",
       "      <td>0.011534</td>\n",
       "      <td>NaN</td>\n",
       "      <td>Celecoxib-Ethanol/Water</td>\n",
       "      <td>Lab</td>\n",
       "    </tr>\n",
       "    <tr>\n",
       "      <th>27277</th>\n",
       "      <td>Celecoxib</td>\n",
       "      <td>Ethanol</td>\n",
       "      <td>0.2000</td>\n",
       "      <td>0.089083</td>\n",
       "      <td>Water</td>\n",
       "      <td>313.15</td>\n",
       "      <td>431.15</td>\n",
       "      <td>0</td>\n",
       "      <td>0</td>\n",
       "      <td>0</td>\n",
       "      <td>...</td>\n",
       "      <td>0</td>\n",
       "      <td>0</td>\n",
       "      <td>0</td>\n",
       "      <td>0</td>\n",
       "      <td>0</td>\n",
       "      <td>0.003120</td>\n",
       "      <td>-2.505811</td>\n",
       "      <td>NaN</td>\n",
       "      <td>Celecoxib-Ethanol/Water</td>\n",
       "      <td>Lab</td>\n",
       "    </tr>\n",
       "    <tr>\n",
       "      <th>27278</th>\n",
       "      <td>Celecoxib</td>\n",
       "      <td>Ethanol</td>\n",
       "      <td>0.8000</td>\n",
       "      <td>0.610093</td>\n",
       "      <td>Water</td>\n",
       "      <td>298.15</td>\n",
       "      <td>431.15</td>\n",
       "      <td>0</td>\n",
       "      <td>0</td>\n",
       "      <td>0</td>\n",
       "      <td>...</td>\n",
       "      <td>0</td>\n",
       "      <td>0</td>\n",
       "      <td>0</td>\n",
       "      <td>0</td>\n",
       "      <td>0</td>\n",
       "      <td>4.842238</td>\n",
       "      <td>0.685046</td>\n",
       "      <td>NaN</td>\n",
       "      <td>Celecoxib-Ethanol/Water</td>\n",
       "      <td>Lab</td>\n",
       "    </tr>\n",
       "    <tr>\n",
       "      <th>27279</th>\n",
       "      <td>Celecoxib</td>\n",
       "      <td>Ethanol</td>\n",
       "      <td>0.5000</td>\n",
       "      <td>0.281185</td>\n",
       "      <td>Water</td>\n",
       "      <td>298.15</td>\n",
       "      <td>431.15</td>\n",
       "      <td>0</td>\n",
       "      <td>0</td>\n",
       "      <td>0</td>\n",
       "      <td>...</td>\n",
       "      <td>0</td>\n",
       "      <td>0</td>\n",
       "      <td>0</td>\n",
       "      <td>0</td>\n",
       "      <td>0</td>\n",
       "      <td>0.445512</td>\n",
       "      <td>-0.351141</td>\n",
       "      <td>NaN</td>\n",
       "      <td>Celecoxib-Ethanol/Water</td>\n",
       "      <td>Lab</td>\n",
       "    </tr>\n",
       "    <tr>\n",
       "      <th>27280</th>\n",
       "      <td>Aspirin</td>\n",
       "      <td>Ethanol</td>\n",
       "      <td>0.8000</td>\n",
       "      <td>0.610093</td>\n",
       "      <td>Water</td>\n",
       "      <td>313.15</td>\n",
       "      <td>408.15</td>\n",
       "      <td>0</td>\n",
       "      <td>0</td>\n",
       "      <td>0</td>\n",
       "      <td>...</td>\n",
       "      <td>0</td>\n",
       "      <td>0</td>\n",
       "      <td>0</td>\n",
       "      <td>0</td>\n",
       "      <td>0</td>\n",
       "      <td>25.454687</td>\n",
       "      <td>1.405768</td>\n",
       "      <td>NaN</td>\n",
       "      <td>Aspirin-Ethanol/Water</td>\n",
       "      <td>Lab</td>\n",
       "    </tr>\n",
       "  </tbody>\n",
       "</table>\n",
       "<p>27281 rows × 1136 columns</p>\n",
       "</div>"
      ],
      "text/plain": [
       "                          Drug          Solvent_1  Solvent_mass_fraction  \\\n",
       "0      Guanidine hydrochloride  Dimethylformamide                 0.1001   \n",
       "1                    Pidotimod           Methanol                 0.6000   \n",
       "2                    Pidotimod           Methanol                 0.7000   \n",
       "3                    Pidotimod           Methanol                 0.7000   \n",
       "4                    Pidotimod           Methanol                 0.7000   \n",
       "...                        ...                ...                    ...   \n",
       "27276                Celecoxib            Ethanol                 0.5000   \n",
       "27277                Celecoxib            Ethanol                 0.2000   \n",
       "27278                Celecoxib            Ethanol                 0.8000   \n",
       "27279                Celecoxib            Ethanol                 0.5000   \n",
       "27280                  Aspirin            Ethanol                 0.8000   \n",
       "\n",
       "       Solvent_mol_fraction      Solvent_2  Temperature (K)  \\\n",
       "0                  0.083785     1-Propanol           278.15   \n",
       "1                  0.844647  Butyl acetate           308.15   \n",
       "2                  0.894264  Butyl acetate           303.15   \n",
       "3                  0.894264  Butyl acetate           298.15   \n",
       "4                  0.894264  Butyl acetate           293.15   \n",
       "...                     ...            ...              ...   \n",
       "27276              0.281185          Water           313.15   \n",
       "27277              0.089083          Water           313.15   \n",
       "27278              0.610093          Water           298.15   \n",
       "27279              0.281185          Water           298.15   \n",
       "27280              0.610093          Water           313.15   \n",
       "\n",
       "       Drug_Melting_temp (K)  Drug_Maccs_1  Drug_Maccs_2  Drug_Maccs_3  ...  \\\n",
       "0                     451.15             0             0             0  ...   \n",
       "1                     469.15             0             0             0  ...   \n",
       "2                     469.15             0             0             0  ...   \n",
       "3                     469.15             0             0             0  ...   \n",
       "4                     469.15             0             0             0  ...   \n",
       "...                      ...           ...           ...           ...  ...   \n",
       "27276                 431.15             0             0             0  ...   \n",
       "27277                 431.15             0             0             0  ...   \n",
       "27278                 431.15             0             0             0  ...   \n",
       "27279                 431.15             0             0             0  ...   \n",
       "27280                 408.15             0             0             0  ...   \n",
       "\n",
       "       Solvent_2_fr_thiazole  Solvent_2_fr_thiocyan  Solvent_2_fr_thiophene  \\\n",
       "0                          0                      0                       0   \n",
       "1                          0                      0                       0   \n",
       "2                          0                      0                       0   \n",
       "3                          0                      0                       0   \n",
       "4                          0                      0                       0   \n",
       "...                      ...                    ...                     ...   \n",
       "27276                      0                      0                       0   \n",
       "27277                      0                      0                       0   \n",
       "27278                      0                      0                       0   \n",
       "27279                      0                      0                       0   \n",
       "27280                      0                      0                       0   \n",
       "\n",
       "       Solvent_2_fr_unbrch_alkane  Solvent_2_fr_urea  Solubility (g/100g)  \\\n",
       "0                               0                  0            10.385820   \n",
       "1                               1                  0             0.949107   \n",
       "2                               1                  0             1.364617   \n",
       "3                               1                  0             1.188868   \n",
       "4                               1                  0             0.997346   \n",
       "...                           ...                ...                  ...   \n",
       "27276                           0                  0             1.026914   \n",
       "27277                           0                  0             0.003120   \n",
       "27278                           0                  0             4.842238   \n",
       "27279                           0                  0             0.445512   \n",
       "27280                           0                  0            25.454687   \n",
       "\n",
       "           LogS          Class  \\\n",
       "0      1.016441   (1.01, 1.99]   \n",
       "1     -0.022685  (-0.42, 0.37]   \n",
       "2      0.135011  (-0.42, 0.37]   \n",
       "3      0.075133  (-0.42, 0.37]   \n",
       "4     -0.001154  (-0.42, 0.37]   \n",
       "...         ...            ...   \n",
       "27276  0.011534            NaN   \n",
       "27277 -2.505811            NaN   \n",
       "27278  0.685046            NaN   \n",
       "27279 -0.351141            NaN   \n",
       "27280  1.405768            NaN   \n",
       "\n",
       "                                     Drug-solvent system   Type  \n",
       "0      Guanidine hydrochloride-1-Propanol/Dimethylfor...  Train  \n",
       "1                       Pidotimod-Butyl acetate/Methanol  Train  \n",
       "2                       Pidotimod-Butyl acetate/Methanol  Train  \n",
       "3                       Pidotimod-Butyl acetate/Methanol  Train  \n",
       "4                       Pidotimod-Butyl acetate/Methanol  Train  \n",
       "...                                                  ...    ...  \n",
       "27276                            Celecoxib-Ethanol/Water    Lab  \n",
       "27277                            Celecoxib-Ethanol/Water    Lab  \n",
       "27278                            Celecoxib-Ethanol/Water    Lab  \n",
       "27279                            Celecoxib-Ethanol/Water    Lab  \n",
       "27280                              Aspirin-Ethanol/Water    Lab  \n",
       "\n",
       "[27281 rows x 1136 columns]"
      ]
     },
     "execution_count": 3,
     "metadata": {},
     "output_type": "execute_result"
    }
   ],
   "source": [
    "data = data.sort_values('Type', ascending=False)\n",
    "data = data.reset_index(drop = True)\n",
    "data"
   ]
  },
  {
   "cell_type": "code",
   "execution_count": 4,
   "id": "cccabb5e",
   "metadata": {},
   "outputs": [],
   "source": [
    "train = data[data['Type'] == 'Train']\n",
    "test = data[data['Type'] == 'Test']\n",
    "lab = data[data['Type'] == 'Lab']"
   ]
  },
  {
   "cell_type": "code",
   "execution_count": 5,
   "id": "5e5ed2d0",
   "metadata": {},
   "outputs": [],
   "source": [
    "cols_to_drop = ['Drug','Solvent_1', 'Solvent_2',  \n",
    "                 'Drug-solvent system', 'Solubility (g/100g)', 'LogS', 'Class',  'Type']"
   ]
  },
  {
   "cell_type": "code",
   "execution_count": 6,
   "id": "7ff08996",
   "metadata": {},
   "outputs": [],
   "source": [
    "X_train = train.drop(cols_to_drop, axis = 1)\n",
    "X_test = test.drop(cols_to_drop, axis = 1)\n",
    "X_lab = lab.drop(cols_to_drop, axis = 1)"
   ]
  },
  {
   "cell_type": "code",
   "execution_count": 7,
   "id": "0103f0d2",
   "metadata": {},
   "outputs": [
    {
     "data": {
      "text/plain": [
       "(21949, 1128)"
      ]
     },
     "execution_count": 7,
     "metadata": {},
     "output_type": "execute_result"
    }
   ],
   "source": [
    "X_train.shape"
   ]
  },
  {
   "cell_type": "code",
   "execution_count": 8,
   "id": "955e0632",
   "metadata": {},
   "outputs": [
    {
     "data": {
      "text/plain": [
       "(24, 1128)"
      ]
     },
     "execution_count": 8,
     "metadata": {},
     "output_type": "execute_result"
    }
   ],
   "source": [
    "X_lab.shape"
   ]
  },
  {
   "cell_type": "markdown",
   "id": "e42e64c5",
   "metadata": {},
   "source": [
    "# Remove the identical columns"
   ]
  },
  {
   "cell_type": "code",
   "execution_count": 9,
   "id": "2d20e260",
   "metadata": {},
   "outputs": [
    {
     "data": {
      "text/plain": [
       "(21949, 724)"
      ]
     },
     "execution_count": 9,
     "metadata": {},
     "output_type": "execute_result"
    }
   ],
   "source": [
    "variance = X_train.var()\n",
    "\n",
    "columns_to_drop = variance[variance == 0].index\n",
    "\n",
    "X_train = X_train.drop(columns=columns_to_drop)\n",
    "\n",
    "X_train.shape"
   ]
  },
  {
   "cell_type": "markdown",
   "id": "541d4610",
   "metadata": {},
   "source": [
    "# Remove the highly correlated columns"
   ]
  },
  {
   "cell_type": "code",
   "execution_count": 10,
   "id": "624ad40f",
   "metadata": {},
   "outputs": [],
   "source": [
    "def reduce_columns_by_correlation(data, threshold):\n",
    "    corr_matrix = data.corr().abs()\n",
    "    columns_to_drop = set()\n",
    "    results_data = []\n",
    "\n",
    "    for col in data.columns[:-1]:\n",
    "        if col not in columns_to_drop:\n",
    "            high_corr_columns = corr_matrix.loc[col, corr_matrix.loc[col, :] > threshold].index.tolist()\n",
    "            \n",
    "            if col in high_corr_columns:\n",
    "                high_corr_columns.remove(col)\n",
    "\n",
    "            columns_to_drop.update(high_corr_columns)\n",
    "            results_data.append({'iteration': col, 'columns left': len(data.columns) - len(columns_to_drop)})\n",
    "\n",
    "    data = data.drop(columns=list(columns_to_drop))\n",
    "\n",
    "\n",
    "    return data\n"
   ]
  },
  {
   "cell_type": "code",
   "execution_count": 11,
   "id": "8734d6d9",
   "metadata": {},
   "outputs": [
    {
     "data": {
      "text/plain": [
       "(21949, 370)"
      ]
     },
     "execution_count": 11,
     "metadata": {},
     "output_type": "execute_result"
    }
   ],
   "source": [
    "X_train = reduce_columns_by_correlation(X_train, 0.8)\n",
    "X_train.shape"
   ]
  },
  {
   "cell_type": "code",
   "execution_count": 12,
   "id": "0091164c",
   "metadata": {},
   "outputs": [],
   "source": [
    "\n",
    "X_test = X_test[X_train.columns]\n",
    "X_lab = X_lab[X_train.columns]"
   ]
  },
  {
   "cell_type": "code",
   "execution_count": 13,
   "id": "a0bcc28e",
   "metadata": {},
   "outputs": [],
   "source": [
    "scaler = StandardScaler()\n",
    "pca = PCA()\n",
    "\n",
    "scaler.fit(X_train)\n",
    "\n",
    "X_train_scaled = scaler.transform(X_train)\n",
    "X_test_scaled = scaler.transform(X_test)\n",
    "X_lab_scaled = scaler.transform(X_lab)\n",
    "\n",
    "\n",
    "X_train_scaled_df = pd.DataFrame(X_train_scaled, columns = X_train.columns)\n",
    "X_test_scaled_df = pd.DataFrame(X_test_scaled, columns = X_test.columns)\n",
    "X_lab_scaled_df = pd.DataFrame(X_lab_scaled, columns = X_lab.columns)\n",
    "\n",
    "\n",
    "pca.fit(X_train_scaled)\n",
    "\n",
    "X_train_pca = pca.transform(X_train_scaled)\n",
    "X_test_pca = pca.transform(X_test_scaled)\n",
    "X_lab_pca = pca.transform(X_lab_scaled)"
   ]
  },
  {
   "cell_type": "code",
   "execution_count": 14,
   "id": "9f4c9464",
   "metadata": {},
   "outputs": [
    {
     "data": {
      "image/png": "[encoded data removed]",
      "text/plain": [
       "<Figure size 1200x600 with 2 Axes>"
      ]
     },
     "metadata": {
      "needs_background": "light"
     },
     "output_type": "display_data"
    }
   ],
   "source": [
    "red = '#DD706E'\n",
    "grey = '#515265'\n",
    "yellow = '#FAAF3A'\n",
    "blue = '#3A93C2'\n",
    "\n",
    "\n",
    "threshold = 0.95\n",
    "\n",
    "explained_variance_ratio = pca.explained_variance_ratio_\n",
    "cumulative_explained_variance = np.cumsum(explained_variance_ratio)\n",
    "pc_number_threshold = np.argmax(cumulative_explained_variance >= threshold) + 1\n",
    "\n",
    "\n",
    "pca_summary_threshold = pd.DataFrame({\n",
    "    'PCA': range(1, pc_number_threshold + 1),\n",
    "    'Variance': explained_variance_ratio[:pc_number_threshold] * 100,\n",
    "    'Cumulative Variance': cumulative_explained_variance[:pc_number_threshold] * 100\n",
    "})\n",
    "\n",
    "\n",
    "fontsize = 16\n",
    "fig, ax1 = plt.subplots(figsize=(12, 6))\n",
    "ax1.bar(pca_summary_threshold['PCA'], pca_summary_threshold['Variance'], alpha=1.0, label='Variance explained', color=blue)\n",
    "\n",
    "\n",
    "ax2 = ax1.twinx()\n",
    "\n",
    "ax2.plot(pca_summary_threshold['PCA'], pca_summary_threshold['Cumulative Variance'], \n",
    "         marker='o', markersize=8, markeredgewidth=0.5, markeredgecolor='black', \n",
    "         linestyle='-', color=red, label='Cumulative variance explained')\n",
    "\n",
    "\n",
    "\n",
    "ax2.fill_between(pca_summary_threshold['PCA'], 0.0, pca_summary_threshold['Cumulative Variance'], color=red, alpha=0.2)\n",
    "\n",
    "\n",
    "last_pca = pca_summary_threshold['PCA'].iloc[-1]\n",
    "last_cumulative_variance = pca_summary_threshold['Cumulative Variance'].iloc[-1]\n",
    "ax2.scatter(last_pca, last_cumulative_variance, color=grey, zorder=5, s = 70)  \n",
    "\n",
    "\n",
    "ax2.annotate(f'({last_pca}, {last_cumulative_variance:.2f}%)', \n",
    "             xy=(last_pca, last_cumulative_variance), \n",
    "             xytext=(last_pca-15, last_cumulative_variance-15),\n",
    "             fontsize=fontsize,\n",
    "             arrowprops=dict(facecolor='black', arrowstyle='->'))\n",
    "\n",
    "\n",
    "ax1.set_title('', fontsize=fontsize)\n",
    "ax1.set_xlabel('Number of PCA components', fontsize=fontsize)\n",
    "ax1.set_ylabel('Variance explained (%)', fontsize=fontsize)\n",
    "ax2.set_ylabel('Cumulative variance explained (%)', fontsize=fontsize)\n",
    "\n",
    "\n",
    "ax1.set_ylim(0, 10)\n",
    "ax2.set_ylim(0, 110)\n",
    "ax2.set_xlim(-2, last_pca+2)\n",
    "\n",
    "\n",
    "ax1.tick_params(axis='both', which='major', labelsize=fontsize)\n",
    "ax2.tick_params(axis='y', which='major', labelsize=fontsize)\n",
    "\n",
    "\n",
    "handles1, labels1 = ax1.get_legend_handles_labels()\n",
    "handles2, labels2 = ax2.get_legend_handles_labels()\n",
    "handles = handles1 + handles2\n",
    "labels = labels1 + labels2\n",
    "lgd = ax1.legend(handles, labels, loc='upper left', bbox_to_anchor=(0.1, 1), fontsize=fontsize-2, frameon=False, ncol=2)\n",
    "\n",
    "\n",
    "ax1.set_facecolor('none')\n",
    "fig.patch.set_alpha(0.0)\n",
    "ax1.grid(False)\n",
    "\n",
    "\n",
    "\n",
    "fig.canvas.print_figure('Figure_SI_PCA.png', dpi=600)\n",
    "\n",
    "plt.show()"
   ]
  },
  {
   "cell_type": "code",
   "execution_count": 15,
   "id": "99c34888",
   "metadata": {},
   "outputs": [],
   "source": [
    "feat_to_keep = [f\"PC{i+1}\" for i in range(pc_number_threshold)]\n",
    "pca_all_feat = [f\"PC{i+1}\" for i in range(X_train_pca.shape[1])]\n",
    "col_to_add = ['Drug','Solvent_1', 'Solvent_2', 'Drug-solvent system', 'LogS', 'Class', 'Solubility (g/100g)']\n"
   ]
  },
  {
   "cell_type": "code",
   "execution_count": 16,
   "id": "906bc238",
   "metadata": {},
   "outputs": [],
   "source": [
    "def dataset_generator(X_train_array, X_test_array, X_lab_array, data, all_feat, feat_to_keep, col_to_add):\n",
    "    \n",
    "    X_train = pd.DataFrame(X_train_array, columns = all_feat)\n",
    "    X_test = pd.DataFrame(X_test_array, columns = all_feat)\n",
    "    X_lab = pd.DataFrame(X_lab_array, columns = all_feat)\n",
    "    \n",
    "    X_train = X_train[feat_to_keep]\n",
    "    X_test = X_test[feat_to_keep]\n",
    "    X_lab = X_lab[feat_to_keep]\n",
    "    \n",
    "    X_train['Type'] = 'Train'\n",
    "    X_test['Type'] = 'Test'\n",
    "    X_lab['Type'] = 'Lab'\n",
    "    \n",
    "    combined_df = pd.concat([X_train, X_test, X_lab], ignore_index=True)\n",
    "    \n",
    "    for col in col_to_add:\n",
    "        combined_df[col] = data[col]\n",
    "        \n",
    "    train_subset = combined_df[combined_df['Type'] == 'Train']\n",
    "    test_subset = combined_df[combined_df['Type'] == 'Test']\n",
    "    \n",
    "\n",
    "    overlapping_groups = set(train_subset['Drug-solvent system']).intersection(set(test_subset['Drug-solvent system']))\n",
    "    \n",
    "    if (combined_df['Type'].equals(data['Type'])):\n",
    "        print('First check:  passed')     \n",
    "    else:\n",
    "        print('First check:  failed')\n",
    "        \n",
    "    if (combined_df['LogS'].equals(data['LogS'])):\n",
    "        print('Second check: passed')     \n",
    "    else:\n",
    "        print('Second check: failed')\n",
    "        \n",
    "    if (combined_df['Drug'].equals(data['Drug'])):\n",
    "        print('Third check:  passed')     \n",
    "    else:\n",
    "        print('Third check:  failed')\n",
    "    \n",
    "    print(\"Number of overlapping train/test groups: \", len(overlapping_groups))\n",
    "    \n",
    "    return combined_df"
   ]
  },
  {
   "cell_type": "code",
   "execution_count": 17,
   "id": "6957b5b4",
   "metadata": {},
   "outputs": [
    {
     "name": "stdout",
     "output_type": "stream",
     "text": [
      "First check:  passed\n",
      "Second check: passed\n",
      "Third check:  passed\n",
      "Number of overlapping train/test groups:  0\n"
     ]
    },
    {
     "data": {
      "text/plain": [
       "(27281, 94)"
      ]
     },
     "execution_count": 17,
     "metadata": {},
     "output_type": "execute_result"
    }
   ],
   "source": [
    "dataset_PCA = dataset_generator(X_train_array = X_train_pca, X_test_array = X_test_pca, \n",
    "                                X_lab_array = X_lab_pca,\n",
    "                                data = data, all_feat = pca_all_feat, \n",
    "                                feat_to_keep = feat_to_keep, col_to_add = col_to_add)\n",
    "dataset_PCA.shape\n"
   ]
  },
  {
   "cell_type": "code",
   "execution_count": 18,
   "id": "225071bd",
   "metadata": {},
   "outputs": [],
   "source": [
    "dataset_PCA.to_csv('Summary_and_dataset/PCA_dataset.csv', index = False)"
   ]
  },
  {
   "cell_type": "code",
   "execution_count": 19,
   "id": "8c224da2",
   "metadata": {},
   "outputs": [
    {
     "data": {
      "text/plain": [
       "(21949, 370)"
      ]
     },
     "execution_count": 19,
     "metadata": {},
     "output_type": "execute_result"
    }
   ],
   "source": [
    "X_train_scaled_df.shape"
   ]
  },
  {
   "cell_type": "code",
   "execution_count": 20,
   "id": "2ea826ac",
   "metadata": {},
   "outputs": [
    {
     "data": {
      "text/plain": [
       "(21949,)"
      ]
     },
     "execution_count": 20,
     "metadata": {},
     "output_type": "execute_result"
    }
   ],
   "source": [
    "train['LogS'].shape"
   ]
  },
  {
   "cell_type": "code",
   "execution_count": 21,
   "id": "975a61cf",
   "metadata": {},
   "outputs": [
    {
     "name": "stdout",
     "output_type": "stream",
     "text": [
      "First check:  passed\n",
      "Second check: passed\n",
      "Third check:  passed\n",
      "Number of overlapping train/test groups:  0\n"
     ]
    },
    {
     "data": {
      "text/plain": [
       "(27281, 378)"
      ]
     },
     "execution_count": 21,
     "metadata": {},
     "output_type": "execute_result"
    }
   ],
   "source": [
    "refined_dataset = dataset_generator(X_train_array = X_train_scaled, X_test_array = X_test_scaled, \n",
    "                                X_lab_array = X_lab_scaled,\n",
    "                                data = data, all_feat = X_train.columns, \n",
    "                                feat_to_keep = X_train_scaled_df.columns, col_to_add = col_to_add)\n",
    "refined_dataset.shape\n"
   ]
  },
  {
   "cell_type": "code",
   "execution_count": 22,
   "id": "7637c901",
   "metadata": {},
   "outputs": [],
   "source": [
    "refined_dataset.to_csv('Summary_and_dataset/refined_dataset.csv', index = False)\n"
   ]
  },
  {
   "cell_type": "code",
   "execution_count": null,
   "id": "334d0879",
   "metadata": {},
   "outputs": [],
   "source": []
  }
 ],
 "metadata": {
  "kernelspec": {
   "display_name": "Python 3 (ipykernel)",
   "language": "python",
   "name": "python3"
  },
  "language_info": {
   "codemirror_mode": {
    "name": "ipython",
    "version": 3
   },
   "file_extension": ".py",
   "mimetype": "text/x-python",
   "name": "python",
   "nbconvert_exporter": "python",
   "pygments_lexer": "ipython3",
   "version": "3.10.10"
  }
 },
 "nbformat": 4,
 "nbformat_minor": 5
}
